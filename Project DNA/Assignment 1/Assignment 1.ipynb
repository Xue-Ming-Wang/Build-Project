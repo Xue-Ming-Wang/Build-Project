{
 "cells": [
  {
   "cell_type": "code",
   "execution_count": 1,
   "id": "1e29cf93-947e-4f2a-89ab-b28f121afac8",
   "metadata": {},
   "outputs": [],
   "source": [
    "def get_complementary_sequence(template_dna_sequence):\n",
    "    complement_map = {\n",
    "        'A': 'T',\n",
    "        'T': 'A',\n",
    "        'C': 'G',\n",
    "        'G': 'C'\n",
    "    }\n",
    "    \n",
    "    complementary_sequence = ''.join([complement_map[nucleotide] for nucleotide in template_dna_sequence])\n",
    "    \n",
    "    return complementary_sequence"
   ]
  },
  {
   "cell_type": "code",
   "execution_count": 3,
   "id": "1a0139fa-84fb-4d22-9897-f376263efbf9",
   "metadata": {},
   "outputs": [
    {
     "name": "stdout",
     "output_type": "stream",
     "text": [
      "Template DNA sequence: ATCGGATCG\n",
      "Complementary DNA sequence: TAGCCTAGC\n"
     ]
    }
   ],
   "source": [
    "template_dna_sequence = \"ATCGGATCG\"\n",
    "complementary_sequence = get_complementary_sequence(template_dna_sequence)\n",
    "print(\"Template DNA sequence:\", template_dna_sequence)\n",
    "print(\"Complementary DNA sequence:\", complementary_sequence)"
   ]
  },
  {
   "cell_type": "code",
   "execution_count": null,
   "id": "373125e2-61c6-44d8-a395-d8d035be8c41",
   "metadata": {},
   "outputs": [],
   "source": []
  }
 ],
 "metadata": {
  "kernelspec": {
   "display_name": "Python 3 (ipykernel)",
   "language": "python",
   "name": "python3"
  },
  "language_info": {
   "codemirror_mode": {
    "name": "ipython",
    "version": 3
   },
   "file_extension": ".py",
   "mimetype": "text/x-python",
   "name": "python",
   "nbconvert_exporter": "python",
   "pygments_lexer": "ipython3",
   "version": "3.12.4"
  }
 },
 "nbformat": 4,
 "nbformat_minor": 5
}
