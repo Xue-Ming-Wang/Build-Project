{
 "cells": [
  {
   "cell_type": "code",
   "execution_count": 1,
   "id": "7714cec5-a32e-4897-9122-e146f2800cf7",
   "metadata": {},
   "outputs": [],
   "source": [
    "def hamming_distance(str1, str2):\n",
    "    # Step 0: Check if two strings are provided\n",
    "    if str1 is None or str2 is None:\n",
    "        raise ValueError(\"Two strings not provided\")\n",
    "    \n",
    "    # Step 1: Create a counter for mismatches\n",
    "    distance = 0\n",
    "    \n",
    "    # Step 2: Check if the strings are of the same length\n",
    "    if len(str1) != len(str2):\n",
    "        raise ValueError(\"Strings not of equal length\")\n",
    "    \n",
    "    # Step 3: Print headers for the comparison\n",
    "    print(\" Str1 | Str2  | Diff\")\n",
    "    print(\"-------------------\")\n",
    "    \n",
    "    # Step 4: Read the two strings and compare the two\n",
    "    for i in range(len(str1)):\n",
    "        diff = \" \" if str1[i] == str2[i] else \"<\"  # Mark the mismatch with \"<\"\n",
    "        print(f\"  {str1[i]}   |   {str2[i]}   |   {diff}\")\n",
    "        if diff == \"<\":\n",
    "            distance += 1  # add one if different\n",
    "    \n",
    "    # Step 5: Return Hamming distance\n",
    "    return distance"
   ]
  },
  {
   "cell_type": "code",
   "execution_count": 7,
   "id": "7a56c5f1-235b-4f71-8b95-6aa046aef71e",
   "metadata": {},
   "outputs": [
    {
     "name": "stdin",
     "output_type": "stream",
     "text": [
      "Enter two strings separated by a space:  aaa\n"
     ]
    },
    {
     "ename": "ValueError",
     "evalue": "Two strings not provided",
     "output_type": "error",
     "traceback": [
      "\u001b[0;31m---------------------------------------------------------------------------\u001b[0m",
      "\u001b[0;31mValueError\u001b[0m                                Traceback (most recent call last)",
      "Cell \u001b[0;32mIn[7], line 6\u001b[0m\n\u001b[1;32m      4\u001b[0m \u001b[38;5;66;03m# Step to check if exactly two strings are provided\u001b[39;00m\n\u001b[1;32m      5\u001b[0m \u001b[38;5;28;01mif\u001b[39;00m \u001b[38;5;28mlen\u001b[39m(input_strings) \u001b[38;5;241m!=\u001b[39m \u001b[38;5;241m2\u001b[39m:\n\u001b[0;32m----> 6\u001b[0m     \u001b[38;5;28;01mraise\u001b[39;00m \u001b[38;5;167;01mValueError\u001b[39;00m(\u001b[38;5;124m\"\u001b[39m\u001b[38;5;124mTwo strings not provided\u001b[39m\u001b[38;5;124m\"\u001b[39m)\n\u001b[1;32m      8\u001b[0m str1, str2 \u001b[38;5;241m=\u001b[39m input_strings\n\u001b[1;32m     10\u001b[0m \u001b[38;5;66;03m# Calculate Hamming distance and show the comparison\u001b[39;00m\n",
      "\u001b[0;31mValueError\u001b[0m: Two strings not provided"
     ]
    }
   ],
   "source": [
    "# Splitting into two strings\n",
    "input_strings = input(\"Enter two strings separated by a space: \").split()\n",
    "\n",
    "# Step to check if exactly two strings are provided\n",
    "if len(input_strings) != 2:\n",
    "    raise ValueError(\"Two strings not provided\")\n",
    "\n",
    "str1, str2 = input_strings\n",
    "\n",
    "# Calculate Hamming distance and show the comparison\n",
    "hamming_dist = hamming_distance(str1, str2)\n",
    "print(\"\\nHamming Distance:\", hamming_dist)"
   ]
  },
  {
   "cell_type": "code",
   "execution_count": null,
   "id": "e917559b-76c3-468f-a365-e255b7f5b4f1",
   "metadata": {},
   "outputs": [],
   "source": []
  }
 ],
 "metadata": {
  "kernelspec": {
   "display_name": "Python 3 (ipykernel)",
   "language": "python",
   "name": "python3"
  },
  "language_info": {
   "codemirror_mode": {
    "name": "ipython",
    "version": 3
   },
   "file_extension": ".py",
   "mimetype": "text/x-python",
   "name": "python",
   "nbconvert_exporter": "python",
   "pygments_lexer": "ipython3",
   "version": "3.12.4"
  }
 },
 "nbformat": 4,
 "nbformat_minor": 5
}
